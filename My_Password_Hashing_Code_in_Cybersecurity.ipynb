{
  "cells": [
    {
      "cell_type": "markdown",
      "source": [
        "## HASHING IN CYBERSECURITY by Worachat Wannawong, Ph.D.\n",
        "\n",
        "**Understanding the Code**\n",
        "\n",
        "The provided code implements basic password hashing using PBKDF2-HMAC with SHA-256. It stores hashed passwords in a simple in-memory dictionary.\n",
        "\n",
        "**Potential Issues and Improvements**\n",
        "\n",
        "1. **Password Storage:**\n",
        "   - Storing passwords in plain text, even hashed, is highly insecure. Consider using a secure password storage mechanism like a database with proper encryption.\n",
        "   - For a simple demonstration, you could use environment variables or configuration files to store hashed passwords securely.\n",
        "\n",
        "2. **Salt Storage:**\n",
        "   - The salt is currently concatenated with the hashed password. This is not ideal as it exposes the salt, which can potentially be used for dictionary attacks.\n",
        "   - Store the salt separately from the hashed password.\n",
        "\n",
        "3. **Password Complexity:**\n",
        "   - Implement password complexity checks to enforce strong password policies.\n",
        "   - Use regular expressions or password strength libraries to validate password format.\n",
        "\n",
        "4. **Error Handling:**\n",
        "   - Add error handling for exceptions like invalid input, file operations, or database interactions.\n",
        "\n",
        "5. **Code Organization:**\n",
        "   - Consider using classes or modules to better organize the code, especially for larger projects.\n",
        "\n",
        "6. **Security Best Practices:**\n",
        "   - Increase the iteration count for PBKDF2 to improve security.\n",
        "   - Use a more secure hashing algorithm if available.\n",
        "   - Consider using key derivation functions like Argon2 for even stronger protection.\n",
        "\n",
        "**Provided Code**\n",
        "In the provided code, the `database` dictionary contains two usernames: `\"clcoding\"` and `\"pythonclcoding\"`. These are the usernames you can use to test the program.\n",
        "\n",
        "For example:\n",
        "- **Username:** `clcoding`\n",
        "- **Password:** `976729`\n",
        "\n",
        "- **Username:** `pythonclcoding`\n",
        "- **Password:** `2502`\n",
        "\n",
        "Make sure you enter the usernames exactly as they appear in the `database` dictionary, including the correct case, as string comparisons in Python are case-sensitive. If the username you enter doesn't match any key in the dictionary, the program will output \"Username not found.\""
      ],
      "metadata": {
        "id": "iTo8wUtfthSz"
      }
    },
    {
      "cell_type": "code",
      "source": [
        "import hashlib\n",
        "import os\n",
        "import getpass\n",
        "\n",
        "def hash_password(password: str) -> str:\n",
        "    \"\"\"\n",
        "    Hashes a password using PBKDF2 HMAC with SHA-256 and a randomly generated salt.\n",
        "\n",
        "    Args:\n",
        "        password (str): The password to be hashed.\n",
        "\n",
        "    Returns:\n",
        "        tuple: The salt and hashed password as byte strings.\n",
        "    \"\"\"\n",
        "    salt = os.urandom(16)\n",
        "    hashed_password = hashlib.pbkdf2_hmac(\n",
        "        'sha256',\n",
        "        password.encode(),\n",
        "        salt,\n",
        "        100000  # Increase iteration count for better security\n",
        "    )\n",
        "    return salt, hashed_password\n",
        "\n",
        "def verify_password(stored_salt: bytes, stored_hash: bytes, provided_password: str) -> bool:\n",
        "    \"\"\"\n",
        "    Verifies a provided password against the stored hashed password.\n",
        "\n",
        "    Args:\n",
        "        stored_salt (bytes): The stored salt.\n",
        "        stored_hash (bytes): The stored hashed password.\n",
        "        provided_password (str): The password to verify.\n",
        "\n",
        "    Returns:\n",
        "        bool: True if the password matches, False otherwise.\n",
        "    \"\"\"\n",
        "    hashed_password = hashlib.pbkdf2_hmac(\n",
        "        'sha256',\n",
        "        provided_password.encode(),\n",
        "        stored_salt,\n",
        "        100000\n",
        "    )\n",
        "    return hashed_password == stored_hash\n",
        "\n",
        "# Replace with secure password storage\n",
        "database = {\n",
        "    \"clcoding\": hash_password(\"976729\"),\n",
        "    \"pythonclcoding\": hash_password(\"2502\")\n",
        "}\n",
        "\n",
        "\n",
        "if __name__ == \"__main__\":\n",
        "    username = input(\"Enter Your Username: \")\n",
        "    password = getpass.getpass(\"Enter Your Password: \")\n",
        "\n",
        "    if username in database:\n",
        "        salt, stored_hash = database[username]\n",
        "        if verify_password(salt, stored_hash, password):\n",
        "            print(\"Verified\")\n",
        "        else:\n",
        "            print(\"Invalid password. Please try again.\")\n",
        "    else:\n",
        "        print(\"Username not found.\")"
      ],
      "outputs": [
        {
          "output_type": "stream",
          "name": "stdout",
          "text": [
            "Enter Your Username: clcoding\n",
            "Enter Your Password: ··········\n",
            "Verified\n"
          ]
        }
      ],
      "execution_count": 3,
      "metadata": {
        "colab": {
          "base_uri": "https://localhost:8080/"
        },
        "id": "5M7uz_MuthS3",
        "outputId": "0ba92810-ae51-4089-e2b1-b5d80549a281"
      }
    },
    {
      "cell_type": "code",
      "source": [
        "import hashlib\n",
        "import os\n",
        "import getpass\n",
        "\n",
        "def hash_password(password: str) -> tuple:\n",
        "    \"\"\"\n",
        "    Hashes a password using PBKDF2 HMAC with SHA-256 and a randomly generated salt.\n",
        "\n",
        "    Args:\n",
        "        password (str): The password to be hashed.\n",
        "\n",
        "    Returns:\n",
        "        tuple: The salt and hashed password as byte strings.\n",
        "    \"\"\"\n",
        "    salt = os.urandom(16)\n",
        "    hashed_password = hashlib.pbkdf2_hmac(\n",
        "        'sha256',\n",
        "        password.encode(),\n",
        "        salt,\n",
        "        100000  # Increase iteration count for better security\n",
        "    )\n",
        "    return salt, hashed_password\n",
        "\n",
        "def verify_password(stored_salt: bytes, stored_hash: bytes, provided_password: str) -> bool:\n",
        "    \"\"\"\n",
        "    Verifies a provided password against the stored hashed password.\n",
        "\n",
        "    Args:\n",
        "        stored_salt (bytes): The stored salt.\n",
        "        stored_hash (bytes): The stored hashed password.\n",
        "        provided_password (str): The password to verify.\n",
        "\n",
        "    Returns:\n",
        "        bool: True if the password matches, False otherwise.\n",
        "    \"\"\"\n",
        "    hashed_password = hashlib.pbkdf2_hmac(\n",
        "        'sha256',\n",
        "        provided_password.encode(),\n",
        "        stored_salt,\n",
        "        100000\n",
        "    )\n",
        "    return hashed_password == stored_hash\n",
        "\n",
        "# Example user data with hashed passwords\n",
        "database = {\n",
        "    \"clcoding\": hash_password(\"976729\"),\n",
        "    \"pythonclcoding\": hash_password(\"2502\")\n",
        "}\n",
        "\n",
        "if __name__ == \"__main__\":\n",
        "    username = input(\"Enter Your Username: \")\n",
        "    password = getpass.getpass(\"Enter Your Password: \")\n",
        "\n",
        "    if username in database:\n",
        "        stored_salt, stored_hash = database[username]\n",
        "        if verify_password(stored_salt, stored_hash, password):\n",
        "            print(\"Verified\")\n",
        "        else:\n",
        "            print(\"Invalid password. Please try again.\")\n",
        "    else:\n",
        "        print(\"Username not found.\")"
      ],
      "metadata": {
        "colab": {
          "base_uri": "https://localhost:8080/"
        },
        "id": "AQhiktM0wKYB",
        "outputId": "bdde1551-a838-4148-fce4-0734417f6c86"
      },
      "execution_count": 5,
      "outputs": [
        {
          "output_type": "stream",
          "name": "stdout",
          "text": [
            "Enter Your Username: pythonclcoding\n",
            "Enter Your Password: ··········\n",
            "Verified\n"
          ]
        }
      ]
    },
    {
      "cell_type": "markdown",
      "source": [
        "**Additional Considerations:**\n",
        "\n",
        "- For production environments, consider using a dedicated password hashing library like `bcrypt` or `argon2_cffi` for more advanced features and security.\n",
        "- Implement proper error handling and input validation.\n",
        "- Explore using a key management system to handle salts and hashed passwords securely.\n",
        "\n",
        "By following these improvements, you can significantly enhance the security of your password hashing implementation.\n",
        "\n",
        "**Would you like to explore any of these points in more detail?**"
      ],
      "metadata": {
        "id": "jcxKaiUFthS5"
      }
    }
  ],
  "metadata": {
    "colab": {
      "provenance": []
    },
    "kernelspec": {
      "display_name": "Python 3",
      "name": "python3"
    }
  },
  "nbformat": 4,
  "nbformat_minor": 0
}